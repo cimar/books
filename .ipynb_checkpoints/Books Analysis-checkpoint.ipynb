{
 "cells": [
  {
   "cell_type": "code",
   "execution_count": 72,
   "metadata": {
    "collapsed": false
   },
   "outputs": [],
   "source": [
    "import pickle\n",
    "\n",
    "def write_obj(obj,filename):\n",
    "    with open(filename, 'wb') as handle:\n",
    "        pickle.dump(obj, handle, protocol=pickle.HIGHEST_PROTOCOL)\n",
    "\n",
    "def load_obj(filename):\n",
    "    with open(filename, 'rb') as handle:\n",
    "        b = pickle.load(handle)\n",
    "        return b\n",
    "\n",
    "book_data = load_obj(\"processed_arr2.pickle\")"
   ]
  },
  {
   "cell_type": "code",
   "execution_count": 73,
   "metadata": {
    "collapsed": false
   },
   "outputs": [
    {
     "name": "stdout",
     "output_type": "stream",
     "text": [
      "{'streak': '12', 'owi': '435335', 'title': 'DESIREE', 'authors': ['Annemarie Selinko'], 'rank': '1', 'fast_subjects': set([u'D\\xe9sir\\xe9e, Queen, consort of Charles XIV John, King of Sweden and Norway, 1777-1860', 'Napoleon I, Emperor of the French, 1769-1821', 'English language', 'Relations with women']), 'year_pub': '1951', 'year': 1953, 'date': datetime.datetime(1953, 4, 19, 0, 0), 'genders': [{'gender': 'Female', 'viaf': '17229435', 'name': 'Annemarie Selinko'}]}\n",
      "{'streak': '38', 'owi': '104466836', 'title': 'THE SILVER CHALICE', 'authors': ['Thomas B. Costain'], 'rank': '2', 'fast_subjects': set(['Historical fiction', 'Jesus Christ', 'Christian fiction', 'History of Biblical events', 'Grail', 'Bible.--New Testament', 'Last Supper']), 'year_pub': '1926', 'year': 1953, 'date': datetime.datetime(1953, 4, 19, 0, 0), 'genders': [{'gender': 'Male', 'viaf': '97749233', 'name': 'Thomas B. Costain'}]}\n",
      "{'streak': '7', 'owi': '354027094', 'title': 'GOLDEN ADMIRAL', 'authors': ['Francis Van Wyck Mason'], 'rank': '3', 'fast_subjects': set(['Discoveries in geography', 'Great Britain', 'Explorers', 'Drake, Francis, approximately 1540-1596', 'Admirals']), 'year_pub': None, 'year': 1953, 'date': datetime.datetime(1953, 4, 19, 0, 0), 'genders': [{'gender': 'Male', 'viaf': '57912804', 'name': 'Francis Van Wyck Mason'}]}\n",
      "{'streak': '21', 'owi': '519490', 'title': 'STEAMBOAT GOTHIC', 'authors': ['Frances Parkinson Keyes'], 'rank': '4', 'fast_subjects': set(['Man-woman relationships', 'Louisiana', 'Gamblers', 'Manners and customs', 'Gambling on river boats', 'American fiction', 'Steamboats']), 'year_pub': '1952', 'year': 1953, 'date': datetime.datetime(1953, 4, 19, 0, 0), 'genders': [{'gender': 'Female', 'viaf': '44300783', 'name': 'Frances Parkinson Keyes'}]}\n",
      "{'streak': '29', 'owi': '576470', 'title': 'EAST OF EDEN', 'authors': ['John Steinbeck'], 'rank': '5', 'fast_subjects': set(['Steinbeck, John, 1902-1968', 'Brothers', 'Novelists, American', 'Migrant agricultural laborers', 'Sibling rivalry', 'Children of prostitutes', 'Fathers and sons', 'United States', 'Marine biologists', 'California--Salinas River Valley', 'World War (1939-1945)', 'Authors, American', 'East of Eden (Steinbeck, John)', 'California', 'Manners and customs', 'Domestic fiction', 'Fiction--Authorship']), 'year_pub': '1900', 'year': 1953, 'date': datetime.datetime(1953, 4, 19, 0, 0), 'genders': [{'gender': 'Male', 'viaf': '96992551', 'name': 'John Steinbeck'}]}\n",
      "{'streak': '4', 'owi': '1083476455', 'title': 'KISS ME AGAIN,  STRANGER', 'authors': ['Daphne du Maurier'], 'rank': '6', 'fast_subjects': set(['Manners and customs', 'Short stories']), 'year_pub': '1952', 'year': 1953, 'date': datetime.datetime(1953, 4, 19, 0, 0), 'genders': [{'gender': 'Female', 'viaf': '24600806', 'name': 'Daphne du Maurier'}]}\n",
      "{'streak': '105', 'owi': '147472', 'title': 'THE CAINE MUTINY', 'authors': ['Herman Wouk'], 'rank': '7', 'fast_subjects': set(['Ship captains', 'Radio adaptations', 'Mutiny', 'Radio plays', 'Courts-martial and courts of inquiry', 'American drama', 'United States', 'Military operations, Naval--American', 'World War (1939-1945)', 'Trials (Naval offenses)']), 'year_pub': '1951', 'year': 1953, 'date': datetime.datetime(1953, 4, 19, 0, 0), 'genders': [{'gender': 'Male', 'viaf': '17231124', 'name': 'Herman Wouk'}]}\n",
      "{'streak': '10', 'owi': '119902084', 'title': 'THE SECOND HAPPIEST DAY', 'authors': ['John Phillips'], 'rank': '8', 'fast_subjects': set([]), 'year_pub': None, 'year': 1953, 'date': datetime.datetime(1953, 4, 19, 0, 0), 'genders': [{'gender': 'Male', 'viaf': '164755938', 'name': 'John Phillips'}]}\n",
      "{'streak': '4', 'owi': '29988551', 'title': 'PRINCE BART', 'authors': ['Jay Richard Kennedy'], 'rank': '9', 'fast_subjects': set([]), 'year_pub': None, 'year': 1953, 'date': datetime.datetime(1953, 4, 19, 0, 0), 'genders': [{'gender': 'Male', 'viaf': '102350792', 'name': 'Jay Richard Kennedy'}]}\n",
      "{'streak': '14', 'owi': '556280', 'title': 'THE SOJOURNER', 'authors': ['Marjorie Kinnan Rawlings'], 'rank': '10', 'fast_subjects': set(['Families', 'Brothers', 'New England', 'Farm life', 'Rural families', 'Brothers and sisters']), 'year_pub': '1933', 'year': 1953, 'date': datetime.datetime(1953, 4, 19, 0, 0), 'genders': [{'gender': 'Female', 'viaf': '73859015', 'name': 'Marjorie Kinnan Rawlings'}]}\n"
     ]
    }
   ],
   "source": [
    "for book in book_data[0:10]:\n",
    "    print book"
   ]
  },
  {
   "cell_type": "code",
   "execution_count": 77,
   "metadata": {
    "collapsed": false
   },
   "outputs": [],
   "source": [
    "def is_book(x,book,fields):\n",
    "    for f in fields:\n",
    "        if x[f] != book[f]:\n",
    "            return False\n",
    "    return True\n",
    "\n",
    "def find_book_in(book,ls,fields):\n",
    "    for x in ls:\n",
    "        if is_book(x,book,fields):\n",
    "            return ls.index(x)\n",
    "    return -1\n",
    "\n",
    "def greater_than(book1,book2,f_to_max):\n",
    "    try:\n",
    "        f1 = int(book1[f_to_max])\n",
    "        f2 = int(book2[f_to_max])\n",
    "        if f_to_max == \"rank\":\n",
    "            f1 = -f1\n",
    "            f2 = -f2\n",
    "        if f1>f2:\n",
    "            return True\n",
    "        else:\n",
    "            return False\n",
    "    except:\n",
    "        return False\n",
    "\n",
    "def get_unique_books_max(ls,u_fields,max_this):\n",
    "    target =[]\n",
    "    for book in ls:\n",
    "        tar_index = find_book_in(book,target,u_fields)\n",
    "        if tar_index>-1:\n",
    "            tar_book = target[tar_index]\n",
    "            if greater_than(book,tar_book,max_this):\n",
    "                target[tar_index] = book\n",
    "        else:\n",
    "            target.append(book)\n",
    "    return target\n",
    "            \n"
   ]
  },
  {
   "cell_type": "code",
   "execution_count": 67,
   "metadata": {
    "collapsed": true
   },
   "outputs": [],
   "source": [
    "import random,pandas,matplotlib,re,math\n",
    "%matplotlib inline\n",
    "\n",
    "random.seed(0)\n",
    "alph = re.compile('[^a-zA-Z]')\n",
    "genre_terms = [\"fiction\",\"stories\",\"tales\",\"literature\",\"opera\"]\n",
    "genre_dict = {\"romance\":{\"keys\":[\"romance\",\"erotic\"],\"stops\":[\"language\"]}, #took out 'domestic'\n",
    "              \"domestic\":{\"keys\":[\"domestic\"]},\n",
    "              \"suspense\":{\"keys\":[\"suspense\"]},\n",
    "              \"legal\":{\"keys\":[\"legal\"]},\n",
    "              \"horror\":{\"keys\":[\"horror\",\"paranormal\"]},\n",
    "              \"mystery\":{\"keys\":[\"mystery\",\"detective\",\"crime\"]},\n",
    "              \"spy_and_politics\":{\"keys\":[\"spy \",\"politic\"]},\n",
    "              \"fsf\":{\"keys\":[\"fantasy\",\"science fiction\", \"space\",\"cyberpunk\",\"steampunk\"]},\n",
    "              \"adventure\":{\"keys\":[\"adventure\",\"western\",\"sea \"]},\n",
    "              \"ya\":{\"keys\":[\"young adult\"]},\n",
    "              \"war\":{\"keys\":[\"war \"]},\n",
    "              \"religious\":{\"keys\":[\"religious\",\"christian\"],\"stop\":[\"aspects\"]},\n",
    "              \"historical\":{\"keys\":[\"historical\"]} ## <-- I think this one might not be a well-supported\n",
    "                                                   ## category in the DB\n",
    "            }\n",
    "\n",
    "def get_decade(year):\n",
    "    frac = float(year)/10\n",
    "    return math.floor(frac)*10\n",
    "\n",
    "def strip_punct(text):\n",
    "    return alph.sub('', text)\n",
    "\n",
    "def norm_text(text):\n",
    "    return strip_punct(text).lower()\n",
    "\n",
    "def genre_candidate(fast_term):\n",
    "    for term in genre_terms:\n",
    "        if term in norm_text(fast_term):\n",
    "            return True\n",
    "    return False\n",
    "\n",
    "def is_genre(fast_term,genre_str):\n",
    "    terms = genre_dict[genre_str]['keys']\n",
    "    if 'stops' in genre_dict[genre_str]:\n",
    "        stops=genre_dict[genre_str]['stops']\n",
    "    else:\n",
    "        stops = []\n",
    "    target = False\n",
    "    for term in terms:\n",
    "        if term in fast_term.lower():\n",
    "            target = True\n",
    "    for stop in stops:\n",
    "        if stop in fast_term.lower():\n",
    "            target = False\n",
    "    return target\n",
    "\n",
    "\n",
    "def class_gender(gender_ls):\n",
    "    if len(gender_ls) == 1:\n",
    "        return gender_ls[0]['gender']\n",
    "    else:\n",
    "        fem = 0\n",
    "        male = 0\n",
    "        for x in gender_ls:\n",
    "            if x['gender'] == 'Female': ## THIS TREATS MIXED GENDER TEAMS AS FEMALE\n",
    "                fem = fem+1\n",
    "                male = male+1\n",
    "            else:\n",
    "                if x['gender'] == 'Male':\n",
    "                    male = male+1\n",
    "        if fem+male == 0:\n",
    "            return 'NA'\n",
    "        ratio = float(fem)/float(fem+male)\n",
    "        if ratio == 1:\n",
    "            return 'Female'\n",
    "        if ratio == 0:\n",
    "            return 'Male'\n",
    "        return 'Both'\n",
    "\n",
    "def new_class_genre(subject_ls):\n",
    "    target = []\n",
    "    for sub in subject_ls:\n",
    "        if genre_candidate(sub):\n",
    "            for genre in genre_dict:\n",
    "                if is_genre(sub,genre):\n",
    "                    target.append(genre)\n",
    "    if len(target) > 1:\n",
    "        return random.choice(target)\n",
    "    if len(subject_ls)>0:\n",
    "        return \"zz_no genre\"\n",
    "    else:\n",
    "        return \"zz_needs label\"\n",
    "        \n",
    "def prep_dataframe(df):\n",
    "    df = df.drop_duplicates([\"title\",\"year\"])\n",
    "    df.loc[:,\"genre\"] = df[\"fast_subjects\"].apply(new_class_genre)\n",
    "    df.loc[:,\"gender\"] = df[\"genders\"].apply(class_gender)\n",
    "    return df"
   ]
  },
  {
   "cell_type": "code",
   "execution_count": 78,
   "metadata": {
    "collapsed": false
   },
   "outputs": [],
   "source": [
    "max_ranks = get_unique_books_max(book_data,[\"title\",\"authors\"],\"rank\")"
   ]
  },
  {
   "cell_type": "code",
   "execution_count": null,
   "metadata": {
    "collapsed": false
   },
   "outputs": [],
   "source": [
    "rank_df = pandas.DataFrame(max_ranks)\n",
    "ndf = prep_dataframe(rank_df)\n",
    "ndf.loc[:,\"rank\"] = pandas.to_numeric(ndf[\"rank\"], errors='coerce')\n",
    "ndf.loc[:,\"decade\"] = ndf[\"year\"].apply(get_decade)\n",
    "rank_gender = pandas.DataFrame({'count' : ndf.groupby( [\"rank\", \"gender\"] ).size()}).reset_index()\n",
    "\n",
    "rank_totals = pandas.DataFrame({'sum' : ndf.groupby(\"rank\").size()})\n",
    "#rank_totals\n",
    "#print rank_totals.loc[3][\"sum\"]\n",
    "\n",
    "def count_to_percent(value,group):\n",
    "    s = rank_totals.loc[group][\"sum\"]\n",
    "    return float(value)/float(s)\n",
    "\n",
    "rank_gender.loc[:,\"percent\"] = rank_gender.apply(lambda x: count_to_percent(x['count'], x['rank']), axis=1)\n",
    "rank_gender = rank_gender.pivot(index='rank', columns='gender', values='percent')\n",
    "print rank_gender\n",
    "rank_gender.plot(kind=\"area\")\n"
   ]
  },
  {
   "cell_type": "code",
   "execution_count": null,
   "metadata": {
    "collapsed": true
   },
   "outputs": [],
   "source": [
    "def count_to_percent(value,group):\n",
    "    s = rank_totals.loc[group][\"sum\"]\n",
    "    return float(value)/float(s)\n",
    "\n",
    "def graph_gender_ratio_rank(odf):\n",
    "    rank_gender = pandas.DataFrame({'count' : odf.groupby( [\"rank\", \"gender\"] ).size()}).reset_index()\n",
    "    rank_totals = pandas.DataFrame({'sum' : odf.groupby(\"rank\").size()})\n",
    "#rank_totals\n",
    "#print rank_totals.loc[3][\"sum\"]\n",
    "    rank_gender.loc[:,\"percent\"] = rank_gender.apply(lambda x: count_to_percent(x['count'], x['rank']), axis=1)\n",
    "    rank_gender = rank_gender.pivot(index='rank', columns='gender', values='percent')\n",
    "    rank_gender.plot(kind=\"area\")\n"
   ]
  },
  {
   "cell_type": "code",
   "execution_count": null,
   "metadata": {
    "collapsed": true
   },
   "outputs": [],
   "source": [
    "decades =[1950,1960,1970,1980,1990,2000,2010]\n",
    "for decade in decades:\n",
    "    decade_frame = ndf[ndf[\"decade\"]==decade]\n",
    "    graph_gender_ratio_rank(decade_frame)"
   ]
  },
  {
   "cell_type": "code",
   "execution_count": null,
   "metadata": {
    "collapsed": true
   },
   "outputs": [],
   "source": [
    "max_streaks = get_unique_books_max(book_data,[\"title\",\"authors\"],\"streak\")"
   ]
  },
  {
   "cell_type": "code",
   "execution_count": 68,
   "metadata": {
    "collapsed": false
   },
   "outputs": [
    {
     "data": {
      "text/plain": [
       "<matplotlib.axes._subplots.AxesSubplot at 0x7f93d8382fd0>"
      ]
     },
     "execution_count": 68,
     "metadata": {},
     "output_type": "execute_result"
    },
    {
     "data": {
      "image/png": "[encoded data removed]",
      "text/plain": [
       "<matplotlib.figure.Figure at 0x7f93a5794650>"
      ]
     },
     "metadata": {},
     "output_type": "display_data"
    }
   ],
   "source": [
    "streak_df = pandas.DataFrame(max_streaks)\n",
    "ndf = prep_dataframe(streak_df)\n",
    "ndf.loc[:,\"streak\"] = pandas.to_numeric(ndf[\"streak\"], errors='coerce')\n",
    "#ndf = ndf[ndf[\"streak\"]>10]\n",
    "female = ndf[ndf[\"gender\"]==\"Female\"]\n",
    "male = ndf[ndf[\"gender\"]==\"Male\"]\n",
    "ax = female[\"streak\"].plot.density()\n",
    "male[\"streak\"].plot.density(ax=ax)"
   ]
  }
 ],
 "metadata": {
  "kernelspec": {
   "display_name": "Python 2",
   "language": "python",
   "name": "python2"
  },
  "language_info": {
   "codemirror_mode": {
    "name": "ipython",
    "version": 2
   },
   "file_extension": ".py",
   "mimetype": "text/x-python",
   "name": "python",
   "nbconvert_exporter": "python",
   "pygments_lexer": "ipython2",
   "version": "2.7.6"
  }
 },
 "nbformat": 4,
 "nbformat_minor": 2
}
