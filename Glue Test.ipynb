{
 "cells": [
  {
   "cell_type": "code",
   "execution_count": 67,
   "metadata": {
    "collapsed": false
   },
   "outputs": [],
   "source": [
    "f_filen = \"tabula-1963-03-17.tsv\"\n",
    "nf_filen = \"tabula-1963-03-17-nf.tsv\"\n",
    "#How far into the tsv file the data shows up...\n",
    "data_i = 2\n",
    "fields = ['rank','title+author','rank_last_week','weeks_on_list']\n",
    "\n",
    "import csv\n",
    "\n",
    "def empty(row):\n",
    "    for r in row:\n",
    "        if r!=\"\":\n",
    "            return False\n",
    "    return True \n",
    "\n",
    "## when we scale it'll be better to take out field_names from these files and store the structure separately\n",
    "def read_tsv(name):\n",
    "    i = 0\n",
    "    arr = []\n",
    "    with open(name) as csvfile:\n",
    "        reader = csv.reader(csvfile, delimiter='\\t')\n",
    "        for row in reader:\n",
    "            if ((i > data_i) & (not empty(row))):\n",
    "                arr.append(row)\n",
    "            i = i+1\n",
    "        return arr"
   ]
  },
  {
   "cell_type": "code",
   "execution_count": 68,
   "metadata": {
    "collapsed": false
   },
   "outputs": [
    {
     "name": "stdout",
     "output_type": "stream",
     "text": [
      "[['1', 'RAISE HIGH THE ROOF BEAM, CARPENTERS, by J.D. Salinger', '1', '5'], ['2', 'SEVEN DAYS IN MAY, by Fletcher Knebel and Charles W. Bailey II.', '2', '25'], ['3', 'THE SAND PEBBLES, by Richard McKenna.', '3', '9'], ['4', 'FAIL-SAFE, by Eugene Burdick and Harvey Wheeler.', '4', '19'], ['5', 'THE MOONSPINNERS, by Mary Stewart.', '5', '10'], ['6', 'TRIUMPH, by Philip Wylie.', '9', '2'], ['7', 'A SHADE OF DIFFERENCE, by Allen Drury.', '7', '23'], ['8', '$100 MISUNDERSTANDING, by Robert Gover.', '--', '14'], ['9', 'THE MOONFLOWER VINE, by Jetta Carleton', '6', '4'], ['10', 'THE CENTAUR, by John Updike', '10', '2']]\n"
     ]
    }
   ],
   "source": [
    "commasv = read_tsv(f_filen)\n",
    "print commasv"
   ]
  },
  {
   "cell_type": "code",
   "execution_count": 69,
   "metadata": {
    "collapsed": false
   },
   "outputs": [
    {
     "name": "stdout",
     "output_type": "stream",
     "text": [
      "('THE SAND PEBBLES', set(['Richard McKenna']))\n"
     ]
    }
   ],
   "source": [
    "sample_title_auth = commasv[2][1]\n",
    "#print sample_title_auth\n",
    "\n",
    "#index into phrase to skip \" by\"\n",
    "auth_i = 4\n",
    "\n",
    "def title_author_pair(data_str):\n",
    "    split_str = data_str.split(',')\n",
    "    title = \"\"\n",
    "    authors = set()\n",
    "    i=0\n",
    "    for phrase in split_str:\n",
    "        if i == 0:\n",
    "            title = phrase\n",
    "        else:\n",
    "            if phrase.isupper():\n",
    "                title = title + \", \"+phrase\n",
    "            else:\n",
    "                author_ph = phrase[auth_i:]\n",
    "                if \" and \" in author_ph:\n",
    "                    author_arr = author_ph.split(\" and \")\n",
    "                    for author in author_arr:\n",
    "                        if author[len(author)-1]=='.':\n",
    "                            author = author[:len(author)-1] # strip trailing period\n",
    "                        authors.add(author)\n",
    "                else:\n",
    "                    author = author_ph\n",
    "                    if author[len(author)-1]=='.':\n",
    "                        author = author[:len(author)-1] # strip trailing period\n",
    "                    authors.add(author)\n",
    "        i = i+1\n",
    "    return (title,authors)\n",
    "        \n",
    "print title_author_pair(sample_title_auth)"
   ]
  },
  {
   "cell_type": "code",
   "execution_count": 70,
   "metadata": {
    "collapsed": false
   },
   "outputs": [
    {
     "name": "stdout",
     "output_type": "stream",
     "text": [
      "('RAISE HIGH THE ROOF BEAM,  CARPENTERS', set(['J.D. Salinger']))\n",
      "('SEVEN DAYS IN MAY', set(['Fletcher Knebel', 'Charles W. Bailey II']))\n",
      "('THE SAND PEBBLES', set(['Richard McKenna']))\n",
      "('FAIL-SAFE', set(['Eugene Burdick', 'Harvey Wheeler']))\n",
      "('THE MOONSPINNERS', set(['Mary Stewart']))\n",
      "('TRIUMPH', set(['Philip Wylie']))\n",
      "('A SHADE OF DIFFERENCE', set(['Allen Drury']))\n",
      "('$100 MISUNDERSTANDING', set(['Robert Gover']))\n",
      "('THE MOONFLOWER VINE', set(['Jetta Carleton']))\n",
      "('THE CENTAUR', set(['John Updike']))\n"
     ]
    }
   ],
   "source": [
    "for row in commasv:\n",
    "    print(title_author_pair(row[1]))"
   ]
  },
  {
   "cell_type": "code",
   "execution_count": null,
   "metadata": {
    "collapsed": true
   },
   "outputs": [],
   "source": [
    "def author_to_gender(author_name):\n",
    "    "
   ]
  },
  {
   "cell_type": "code",
   "execution_count": 76,
   "metadata": {
    "collapsed": false
   },
   "outputs": [
    {
     "name": "stdout",
     "output_type": "stream",
     "text": [
      "garbage\n"
     ]
    }
   ],
   "source": [
    "%run \"keys.py\""
   ]
  }
 ],
 "metadata": {
  "kernelspec": {
   "display_name": "Python 2",
   "language": "python",
   "name": "python2"
  },
  "language_info": {
   "codemirror_mode": {
    "name": "ipython",
    "version": 2
   },
   "file_extension": ".py",
   "mimetype": "text/x-python",
   "name": "python",
   "nbconvert_exporter": "python",
   "pygments_lexer": "ipython2",
   "version": "2.7.6"
  }
 },
 "nbformat": 4,
 "nbformat_minor": 2
}
